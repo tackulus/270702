{
  "nbformat": 4,
  "nbformat_minor": 0,
  "metadata": {
    "colab": {
      "name": "HW01.ipynb",
      "provenance": [],
      "collapsed_sections": [],
      "authorship_tag": "ABX9TyOT4ANblNl5qI83N3V8mruK",
      "include_colab_link": true
    },
    "kernelspec": {
      "name": "python3",
      "display_name": "Python 3"
    },
    "language_info": {
      "name": "python"
    }
  },
  "cells": [
    {
      "cell_type": "markdown",
      "metadata": {
        "id": "view-in-github",
        "colab_type": "text"
      },
      "source": [
        "<a href=\"https://colab.research.google.com/github/tackulus/270702/blob/main/HW01.ipynb\" target=\"_parent\"><img src=\"https://colab.research.google.com/assets/colab-badge.svg\" alt=\"Open In Colab\"/></a>"
      ]
    },
    {
      "cell_type": "code",
      "execution_count": 1,
      "metadata": {
        "id": "Ci1Ip7WI6g_3",
        "colab": {
          "base_uri": "https://localhost:8080/"
        },
        "outputId": "1170e398-b627-4f54-83ca-cdc2a800d3cb"
      },
      "outputs": [
        {
          "output_type": "stream",
          "name": "stdout",
          "text": [
            "Hello, what's your name? : t\n",
            "Hi t, how many sticks do you want? : 1\n",
            "Ok, there are 19 sticks left in the pile.\n"
          ]
        }
      ],
      "source": [
        "n = 20\n",
        "name = input(\"Hello, what's your name? : \")\n",
        "take = int(input(f\"Hi {name}, how many sticks do you want? : \"))\n",
        "print(f\"Ok, there are {n-take} sticks left in the pile.\")"
      ]
    }
  ]
}