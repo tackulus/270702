{
  "nbformat": 4,
  "nbformat_minor": 0,
  "metadata": {
    "colab": {
      "name": "HW03.ipynb",
      "provenance": [],
      "collapsed_sections": [],
      "authorship_tag": "ABX9TyOFTPZELJUbMBK+YXZebMmK",
      "include_colab_link": true
    },
    "kernelspec": {
      "name": "python3",
      "display_name": "Python 3"
    },
    "language_info": {
      "name": "python"
    }
  },
  "cells": [
    {
      "cell_type": "markdown",
      "metadata": {
        "id": "view-in-github",
        "colab_type": "text"
      },
      "source": [
        "<a href=\"https://colab.research.google.com/github/tackulus/270702/blob/main/HW03.ipynb\" target=\"_parent\"><img src=\"https://colab.research.google.com/assets/colab-badge.svg\" alt=\"Open In Colab\"/></a>"
      ]
    },
    {
      "cell_type": "code",
      "execution_count": 16,
      "metadata": {
        "colab": {
          "base_uri": "https://localhost:8080/"
        },
        "id": "86yBifvzaud_",
        "outputId": "42fd9525-f870-47b6-f3e3-2aa703a869b6",
        "cellView": "form"
      },
      "outputs": [
        {
          "output_type": "stream",
          "name": "stdout",
          "text": [
            "How many sticks (N) in the pile? : 5\n",
            "There are 5 sticks in the pile.\n",
            "What's your name? : Tackulus\n",
            "\n",
            "Tackulus goes first!\n",
            "\n",
            "Tackulus, how many sticks you will take? (1 or 2): 1\n",
            "There are 4 sticks in the pile.\n",
            "\n",
            "I, T-bot, take : 1\n",
            "There are 3 sticks in the pile.\n",
            "\n",
            "Tackulus, how many sticks you will take? (1 or 2): 2\n",
            "There is 1 stick in the pile.\n",
            "\n",
            "I, T-bot, take : 1\n",
            "I, T-bot, take the last stick.\n",
            "Tackulus wins!\n"
          ]
        }
      ],
      "source": [
        "#@title Make the Stick in the Piles Playable! \n",
        "\n",
        "import numpy as np\n",
        "\n",
        "def sticker(n, be=False):\n",
        "    sol = f\"{n} stick\"\n",
        "    if n > 1: \n",
        "        sol += \"s\"\n",
        "        if be: sol = \"are \" + sol \n",
        "        return sol\n",
        "    elif be: return \"is 1 stick\"\n",
        "    else: return \"1 stick\"\n",
        "\n",
        "validation = {\n",
        "    'over2': \"No, you cannot take more than 2 sticks!\",\n",
        "    'overN': \"There're not enough sticks to take.\",\n",
        "    'under1': \"No, you cannot take less than 1 stick!\"\n",
        "}\n",
        "\n",
        "N = int(input(\"How many sticks (N) in the pile? : \"))\n",
        "print(f\"There {sticker(N,True)} in the pile.\")\n",
        "name = input(\"What's your name? : \")\n",
        "name_com = \"I, T-bot\"\n",
        "\n",
        "if N % 3 == 1: \n",
        "    turn = 0; print(f\"\\n{name_com}, go first!\")\n",
        "else: \n",
        "    turn = 1; print(f\"\\n{name} goes first!\")\n",
        "\n",
        "while N > 0:\n",
        "    if turn % 2: \n",
        "        x = int(input(f\"\\n{name}, how many sticks you will take? (1 or 2): \"))\n",
        "        if x > 2: \n",
        "            print(validation['over2']); continue\n",
        "        elif x > N: \n",
        "            print(validation['overN']); continue\n",
        "        elif x < 1: \n",
        "            print(validation['under1']); continue\n",
        "    else: \n",
        "        if N == 1: x = 1\n",
        "        elif N % 3 == 1: x = np.random.choice([1,2])\n",
        "        else: x = (N-1) % 3\n",
        "        print(f\"\\n{name_com}, take : {x}\")\n",
        "\n",
        "    N -= x\n",
        "    if N > 0: print(f\"There {sticker(N,True)} in the pile.\")\n",
        "    elif turn % 2: \n",
        "        print(f\"{name} takes the last stick.\")\n",
        "        print(f\"{name_com}, win!\")\n",
        "        break\n",
        "    else:\n",
        "        print(f\"{name_com}, take the last stick.\")\n",
        "        print(f\"{name} wins!\")\n",
        "        break\n",
        "    turn += 1"
      ]
    }
  ]
}