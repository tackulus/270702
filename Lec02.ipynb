{
  "nbformat": 4,
  "nbformat_minor": 0,
  "metadata": {
    "colab": {
      "name": "Lec02.ipynb",
      "provenance": [],
      "collapsed_sections": [],
      "authorship_tag": "ABX9TyP21+lS3fqzl9DuOrAeMaKz",
      "include_colab_link": true
    },
    "kernelspec": {
      "name": "python3",
      "display_name": "Python 3"
    },
    "language_info": {
      "name": "python"
    }
  },
  "cells": [
    {
      "cell_type": "markdown",
      "metadata": {
        "id": "view-in-github",
        "colab_type": "text"
      },
      "source": [
        "<a href=\"https://colab.research.google.com/github/tackulus/270702/blob/main/Lec02.ipynb\" target=\"_parent\"><img src=\"https://colab.research.google.com/assets/colab-badge.svg\" alt=\"Open In Colab\"/></a>"
      ]
    },
    {
      "cell_type": "markdown",
      "source": [
        "# Quiz 1: Find Great Common Diviser (GCD) using loop."
      ],
      "metadata": {
        "id": "aMBitRVyemUd"
      }
    },
    {
      "cell_type": "code",
      "source": [
        "a = int(input(\"Enter the 1st number: \"))\n",
        "b = int(input(\"Enter the 2nd number: \"))\n",
        "if a < b: a, b = b, a\n",
        "while b != 0: a, b = b, a % b\n",
        "print(f\"The GCD is {a}.\")"
      ],
      "metadata": {
        "colab": {
          "base_uri": "https://localhost:8080/"
        },
        "id": "4yb798Ice7pv",
        "outputId": "fd31ddb0-10d0-4937-bd7d-554e42f98cc1"
      },
      "execution_count": 1,
      "outputs": [
        {
          "output_type": "stream",
          "name": "stdout",
          "text": [
            "Enter the 1st number: 66\n",
            "Enter the 2nd number: 81\n",
            "The GCD is 3.\n"
          ]
        }
      ]
    },
    {
      "cell_type": "markdown",
      "source": [
        "# Quiz 2: Plus One Cypher."
      ],
      "metadata": {
        "id": "kbmfNBkZgP09"
      }
    },
    {
      "cell_type": "code",
      "source": [
        "text = input(\"Enter a string: \"); ans = \"\"\n",
        "for x in text: ans += chr(1+ord(x))\n",
        "print(f\"The plus one cypher: {ans}\")"
      ],
      "metadata": {
        "colab": {
          "base_uri": "https://localhost:8080/"
        },
        "id": "-5lXIzVCgVNS",
        "outputId": "657a2217-6cda-46f3-b898-6339a12d8a1a"
      },
      "execution_count": 2,
      "outputs": [
        {
          "output_type": "stream",
          "name": "stdout",
          "text": [
            "Enter a string: ABC\n",
            "The plus one cypher: BCD\n"
          ]
        }
      ]
    }
  ]
}