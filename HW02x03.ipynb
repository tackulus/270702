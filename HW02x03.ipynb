{
  "nbformat": 4,
  "nbformat_minor": 0,
  "metadata": {
    "colab": {
      "name": "HW02.ipynb",
      "provenance": [],
      "collapsed_sections": [],
      "authorship_tag": "ABX9TyMFOxTRl7YfUpfzK69FNV31",
      "include_colab_link": true
    },
    "kernelspec": {
      "name": "python3",
      "display_name": "Python 3"
    },
    "language_info": {
      "name": "python"
    }
  },
  "cells": [
    {
      "cell_type": "markdown",
      "metadata": {
        "id": "view-in-github",
        "colab_type": "text"
      },
      "source": [
        "<a href=\"https://colab.research.google.com/github/tackulus/270702/blob/main/HW02x03.ipynb\" target=\"_parent\"><img src=\"https://colab.research.google.com/assets/colab-badge.svg\" alt=\"Open In Colab\"/></a>"
      ]
    },
    {
      "cell_type": "code",
      "execution_count": null,
      "metadata": {
        "colab": {
          "base_uri": "https://localhost:8080/"
        },
        "id": "86yBifvzaud_",
        "outputId": "35766851-0f09-40fb-f60f-7b51a8729cf5"
      },
      "outputs": [
        {
          "output_type": "stream",
          "name": "stdout",
          "text": [
            "How many sticks (N) in the pile? : 2\n",
            "There are 2 sticks in the pile.\n",
            "What's your name? : Kasidis\n",
            "Kasidis, how many sticks you will take? (1 or 2): 1\n",
            "There are 1 sticks in the pile.\n",
            "Kasidis, how many sticks you will take? (1 or 2): 3\n",
            "No, you cannot take more than 2 sticks!\n",
            "Kasidis, how many sticks you will take? (1 or 2): 0\n",
            "No, you cannot take more less than 1 stick!\n",
            "Kasidis, how many sticks you will take? (1 or 2): 2\n",
            "There're not enough sticks to take.\n",
            "Kasidis, how many sticks you will take? (1 or 2): 1\n",
            "OK. There is no stick left in the pile. You spent 2 times.\n"
          ]
        }
      ],
      "source": [
        "N = int(input(\"How many sticks (N) in the pile? : \")); t = 0\n",
        "print(f\"There are {N} sticks in the pile.\")\n",
        "name = input(\"What's your name? : \")\n",
        "\n",
        "while N > 0:\n",
        "    x = int(input(f\"{name}, how many sticks you will take? (1 or 2): \"))\n",
        "    if x > 2: print(\"No, you cannot take more than 2 sticks!\")\n",
        "    elif x < 1: print(\"No, you cannot take more less than 1 stick!\")\n",
        "    elif x > N: print(\"There're not enough sticks to take.\")\n",
        "    else: \n",
        "        N -= x; t += 1; \n",
        "        if N > 0: print(f\"There are {N} sticks in the pile.\")\n",
        "        else: \n",
        "            print(f\"OK. There is no stick left in the pile. You spent {t} times.\")\n",
        "            break"
      ]
    }
  ]
}