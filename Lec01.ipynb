{
  "nbformat": 4,
  "nbformat_minor": 0,
  "metadata": {
    "colab": {
      "name": "Lec01.ipynb",
      "provenance": [],
      "collapsed_sections": [],
      "authorship_tag": "ABX9TyN4m2yYISTiRJDayDvIqd2h",
      "include_colab_link": true
    },
    "kernelspec": {
      "name": "python3",
      "display_name": "Python 3"
    },
    "language_info": {
      "name": "python"
    }
  },
  "cells": [
    {
      "cell_type": "markdown",
      "metadata": {
        "id": "view-in-github",
        "colab_type": "text"
      },
      "source": [
        "<a href=\"https://colab.research.google.com/github/tackulus/270702/blob/main/Lec01.ipynb\" target=\"_parent\"><img src=\"https://colab.research.google.com/assets/colab-badge.svg\" alt=\"Open In Colab\"/></a>"
      ]
    },
    {
      "cell_type": "markdown",
      "source": [
        "# Quiz 0"
      ],
      "metadata": {
        "id": "AttVN3krhWYT"
      }
    },
    {
      "cell_type": "code",
      "execution_count": 1,
      "metadata": {
        "colab": {
          "base_uri": "https://localhost:8080/"
        },
        "id": "SMVJRyuQTaaS",
        "outputId": "aaf662c4-8c55-456f-a5a3-a6cfe11267ab"
      },
      "outputs": [
        {
          "output_type": "stream",
          "name": "stdout",
          "text": [
            "Hello World, my name is Kasidis Torcharoen.\n"
          ]
        }
      ],
      "source": [
        "print(\"Hello World, my name is Kasidis Torcharoen.\")"
      ]
    },
    {
      "cell_type": "markdown",
      "source": [
        "# Quiz 1"
      ],
      "metadata": {
        "id": "bTTN8i8qho22"
      }
    },
    {
      "cell_type": "markdown",
      "source": [
        "ANSWER1 : The results are DIFFERENT."
      ],
      "metadata": {
        "id": "oDoY00VCi7Zo"
      }
    },
    {
      "cell_type": "code",
      "source": [
        "print(f\"  1+3*4 = {1+3*4}\")\n",
        "print(f\"(1+3)*4 = {(1+3)*4}\")"
      ],
      "metadata": {
        "colab": {
          "base_uri": "https://localhost:8080/"
        },
        "id": "cC1s_HGwhqkX",
        "outputId": "57a0f5e5-5866-4d06-ca7c-808a47094e07"
      },
      "execution_count": 2,
      "outputs": [
        {
          "output_type": "stream",
          "name": "stdout",
          "text": [
            "  1+3*4 = 13\n",
            "(1+3)*4 = 16\n"
          ]
        }
      ]
    },
    {
      "cell_type": "markdown",
      "source": [
        "# Quiz 2"
      ],
      "metadata": {
        "id": "jAnKrlO4h-Ev"
      }
    },
    {
      "cell_type": "markdown",
      "source": [
        "ANSWER2 : The results are DIFFERENT."
      ],
      "metadata": {
        "id": "b7hdpZjfjdTc"
      }
    },
    {
      "cell_type": "code",
      "source": [
        "print(f\"84 / 10 = {84/10}\")\n",
        "print(f\"84 % 10 = {84%10}\")"
      ],
      "metadata": {
        "colab": {
          "base_uri": "https://localhost:8080/"
        },
        "id": "S85gzzX8iG6N",
        "outputId": "91847a88-1ce0-4cf3-e9dd-a16e5f8c7054"
      },
      "execution_count": 3,
      "outputs": [
        {
          "output_type": "stream",
          "name": "stdout",
          "text": [
            "84 / 10 = 8.4\n",
            "84 % 10 = 4\n"
          ]
        }
      ]
    },
    {
      "cell_type": "markdown",
      "source": [
        "# Quiz 3"
      ],
      "metadata": {
        "id": "Uus8N5WviR-s"
      }
    },
    {
      "cell_type": "markdown",
      "source": [
        "ANSWER3 : The results are SAME."
      ],
      "metadata": {
        "id": "nkA7YEbdjqDI"
      }
    },
    {
      "cell_type": "code",
      "source": [
        "print(f\"10 / 2 = {10/2}\")\n",
        "print(f\"10.0 / 2 = {10.0/2}\")"
      ],
      "metadata": {
        "colab": {
          "base_uri": "https://localhost:8080/"
        },
        "id": "l0786t_JiVT-",
        "outputId": "a8ef865b-c0ae-4c2d-c8ef-da613a4bd519"
      },
      "execution_count": 4,
      "outputs": [
        {
          "output_type": "stream",
          "name": "stdout",
          "text": [
            "10 / 2 = 5.0\n",
            "10.0 / 2 = 5.0\n"
          ]
        }
      ]
    },
    {
      "cell_type": "markdown",
      "source": [
        "# Quiz 4"
      ],
      "metadata": {
        "id": "-B_35omWjtxq"
      }
    },
    {
      "cell_type": "markdown",
      "source": [
        "ANSWER4 : The result is 13."
      ],
      "metadata": {
        "id": "Gd9CIyf-kGGz"
      }
    },
    {
      "cell_type": "code",
      "source": [
        "a = 2; b = 3; X = 5\n",
        "print(f\"Y = {a*X+b}\")"
      ],
      "metadata": {
        "colab": {
          "base_uri": "https://localhost:8080/"
        },
        "id": "cJY7F1QLjw2h",
        "outputId": "5177c2d1-a46d-4caf-d2de-e0930005f717"
      },
      "execution_count": 5,
      "outputs": [
        {
          "output_type": "stream",
          "name": "stdout",
          "text": [
            "Y = 13\n"
          ]
        }
      ]
    },
    {
      "cell_type": "markdown",
      "source": [
        "# Quiz 5"
      ],
      "metadata": {
        "id": "-3EuuY9hkJhh"
      }
    },
    {
      "cell_type": "markdown",
      "source": [
        "ANSWER5 : Kasidis will retire in 2060."
      ],
      "metadata": {
        "id": "SwSUV0D9kMGd"
      }
    },
    {
      "cell_type": "code",
      "source": [
        "name = input(\"What's your name? : \")\n",
        "age = int(input(\"How old are you? : \"))\n",
        "print(f\"{name} will retire in {60-age+2022}.\")"
      ],
      "metadata": {
        "colab": {
          "base_uri": "https://localhost:8080/"
        },
        "id": "7Kwkx6mskNSZ",
        "outputId": "6310d428-ebb2-4cdd-8b1a-ce07dc3e7c16"
      },
      "execution_count": 6,
      "outputs": [
        {
          "output_type": "stream",
          "name": "stdout",
          "text": [
            "What's your name? : Kasidis\n",
            "How old are you? : 22\n",
            "Kasidis will retire in 2060.\n"
          ]
        }
      ]
    }
  ]
}